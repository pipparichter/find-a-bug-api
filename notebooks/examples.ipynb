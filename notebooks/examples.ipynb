{
 "cells": [
  {
   "cell_type": "markdown",
   "metadata": {},
   "source": [
    "# Find-A-Bug Python API examples"
   ]
  },
  {
   "cell_type": "code",
   "execution_count": 1,
   "metadata": {},
   "outputs": [
    {
     "name": "stdout",
     "output_type": "stream",
     "text": [
      "Obtaining file:///home/prichter/Documents/find-a-bug-api\n",
      "  Preparing metadata (setup.py) ... \u001b[?25ldone\n",
      "\u001b[?25hRequirement already satisfied: requests in /home/prichter/miniconda3/envs/find-a-bug-api/lib/python3.12/site-packages (from Find-A-Bug-API==0.0.0) (2.31.0)\n",
      "Requirement already satisfied: pandas in /home/prichter/miniconda3/envs/find-a-bug-api/lib/python3.12/site-packages (from Find-A-Bug-API==0.0.0) (2.2.0)\n",
      "Requirement already satisfied: numpy<2,>=1.26.0 in /home/prichter/miniconda3/envs/find-a-bug-api/lib/python3.12/site-packages (from pandas->Find-A-Bug-API==0.0.0) (1.26.3)\n",
      "Requirement already satisfied: python-dateutil>=2.8.2 in /home/prichter/miniconda3/envs/find-a-bug-api/lib/python3.12/site-packages (from pandas->Find-A-Bug-API==0.0.0) (2.8.2)\n",
      "Requirement already satisfied: pytz>=2020.1 in /home/prichter/miniconda3/envs/find-a-bug-api/lib/python3.12/site-packages (from pandas->Find-A-Bug-API==0.0.0) (2023.3.post1)\n",
      "Requirement already satisfied: tzdata>=2022.7 in /home/prichter/miniconda3/envs/find-a-bug-api/lib/python3.12/site-packages (from pandas->Find-A-Bug-API==0.0.0) (2023.4)\n",
      "Requirement already satisfied: charset-normalizer<4,>=2 in /home/prichter/miniconda3/envs/find-a-bug-api/lib/python3.12/site-packages (from requests->Find-A-Bug-API==0.0.0) (3.3.2)\n",
      "Requirement already satisfied: idna<4,>=2.5 in /home/prichter/miniconda3/envs/find-a-bug-api/lib/python3.12/site-packages (from requests->Find-A-Bug-API==0.0.0) (3.6)\n",
      "Requirement already satisfied: urllib3<3,>=1.21.1 in /home/prichter/miniconda3/envs/find-a-bug-api/lib/python3.12/site-packages (from requests->Find-A-Bug-API==0.0.0) (2.1.0)\n",
      "Requirement already satisfied: certifi>=2017.4.17 in /home/prichter/miniconda3/envs/find-a-bug-api/lib/python3.12/site-packages (from requests->Find-A-Bug-API==0.0.0) (2023.11.17)\n",
      "Requirement already satisfied: six>=1.5 in /home/prichter/miniconda3/envs/find-a-bug-api/lib/python3.12/site-packages (from python-dateutil>=2.8.2->pandas->Find-A-Bug-API==0.0.0) (1.16.0)\n",
      "Installing collected packages: Find-A-Bug-API\n",
      "  Attempting uninstall: Find-A-Bug-API\n",
      "    Found existing installation: Find-A-Bug-API 0.0.0\n",
      "    Uninstalling Find-A-Bug-API-0.0.0:\n",
      "      Successfully uninstalled Find-A-Bug-API-0.0.0\n",
      "  Running setup.py develop for Find-A-Bug-API\n",
      "Successfully installed Find-A-Bug-API-0.0.0\n"
     ]
    }
   ],
   "source": [
    "# Install the Find-A-Bug Python API. This can be run in the terminal. \n",
    "! pip install -e ../"
   ]
  },
  {
   "cell_type": "code",
   "execution_count": 2,
   "metadata": {},
   "outputs": [],
   "source": [
    "# Import the fabapi module, as well as some other stuff for working with data. \n",
    "import fabapi\n",
    "import pandas as pd\n",
    "import numpy as np"
   ]
  },
  {
   "cell_type": "markdown",
   "metadata": {},
   "source": [
    "#### What fields can I access within the `sequences` resource?"
   ]
  },
  {
   "cell_type": "code",
   "execution_count": 3,
   "metadata": {},
   "outputs": [
    {
     "name": "stdout",
     "output_type": "stream",
     "text": [
      "[PRIMARY KEY] gene_id (str): The GTDB accession of the gene\n",
      "seq (str): The amino acid sequence of the geneâs coding region\n",
      "genome_id (str): The GTDB accession of the genome to which the gene belongs\n",
      "nt_start (int): The location of the start of the gene in the genome\n",
      "nt_stop (int): The location of the end of the gene in the genome\n",
      "gc_cont (float): The GC content of the gene\n",
      "reverse (bool): Whether or not the gene is read from the reverse strand\n",
      "start_type (str): The start codon of the sequence\n",
      "rbs_motif (str): The RBS binding motif detected by Prodigal\n",
      "rbs_spacer (str): The RBS spacer detected by Prodigal\n"
     ]
    }
   ],
   "source": [
    "fabapi.info('sequences')"
   ]
  },
  {
   "cell_type": "markdown",
   "metadata": {},
   "source": [
    "#### What is the GTDB taxonomic classification for the gene PRDJ01000036.1_86?"
   ]
  },
  {
   "cell_type": "code",
   "execution_count": 4,
   "metadata": {},
   "outputs": [
    {
     "name": "stdout",
     "output_type": "stream",
     "text": [
      "The genome ID associated with PRDJ01000036.1_86: GCA_003345555.1\n"
     ]
    }
   ],
   "source": [
    "gene_id = 'PRDJ01000036.1_86'\n",
    "genome_id = fabapi.get_genome_id_with_gene_id(gene_id)\n",
    "print(f'The genome ID associated with {gene_id}:', genome_id)"
   ]
  },
  {
   "cell_type": "code",
   "execution_count": 5,
   "metadata": {},
   "outputs": [
    {
     "name": "stdout",
     "output_type": "stream",
     "text": [
      "gtdb_genus: OWC5\n",
      "gtdb_domain: Archaea\n",
      "gtdb_species: OWC5 sp003345555\n",
      "gtdb_family: Thorarchaeaceae\n",
      "gtdb_class: Thorarchaeia\n",
      "gtdb_phylum: Asgardarchaeota\n",
      "genome_id: GCA_003345555.1\n",
      "gtdb_order: Thorarchaeales\n"
     ]
    }
   ],
   "source": [
    "taxonomy = fabapi.get_gtdb_taxonomy_with_genome_id(genome_id)\n",
    "for col in taxonomy.columns:\n",
    "    print(f'{col}:', taxonomy[col].item())"
   ]
  },
  {
   "cell_type": "markdown",
   "metadata": {},
   "source": [
    "#### What are the KO group(s) for the gene JAEORN010000318.1_13?"
   ]
  },
  {
   "cell_type": "code",
   "execution_count": null,
   "metadata": {},
   "outputs": [],
   "source": [
    "gene_id = 'JAEORN010000318.1_13'\n",
    "ko = fabapi.get_ko_with_gene_id(gene_id, verbose=True)"
   ]
  },
  {
   "cell_type": "code",
   "execution_count": 8,
   "metadata": {},
   "outputs": [
    {
     "name": "stdout",
     "output_type": "stream",
     "text": [
      "K03738\n"
     ]
    }
   ],
   "source": [
    "for row in ko.itertuples():\n",
    "    print(row.ko)"
   ]
  }
 ],
 "metadata": {
  "kernelspec": {
   "display_name": "find-a-bug-api",
   "language": "python",
   "name": "python3"
  },
  "language_info": {
   "codemirror_mode": {
    "name": "ipython",
    "version": 3
   },
   "file_extension": ".py",
   "mimetype": "text/x-python",
   "name": "python",
   "nbconvert_exporter": "python",
   "pygments_lexer": "ipython3",
   "version": "3.12.1"
  }
 },
 "nbformat": 4,
 "nbformat_minor": 2
}
