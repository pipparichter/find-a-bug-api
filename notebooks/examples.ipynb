{
 "cells": [
  {
   "cell_type": "markdown",
   "metadata": {},
   "source": [
    "# Find-A-Bug Python API examples"
   ]
  },
  {
   "cell_type": "code",
   "execution_count": 1,
   "metadata": {},
   "outputs": [
    {
     "name": "stdout",
     "output_type": "stream",
     "text": [
      "Obtaining file:///home/prichter/Documents/find-a-bug-api\n",
      "  Preparing metadata (setup.py) ... \u001b[?25ldone\n",
      "\u001b[?25hInstalling collected packages: Find-A-Bug-API\n",
      "  Attempting uninstall: Find-A-Bug-API\n",
      "    Found existing installation: Find-A-Bug-API 0.0.0\n",
      "    Uninstalling Find-A-Bug-API-0.0.0:\n",
      "      Successfully uninstalled Find-A-Bug-API-0.0.0\n",
      "  Running setup.py develop for Find-A-Bug-API\n",
      "Successfully installed Find-A-Bug-API-0.0.0\n"
     ]
    }
   ],
   "source": [
    "# Install the Find-A-Bug Python API. This can be run in the terminal. \n",
    "! pip install -e ../"
   ]
  },
  {
   "cell_type": "code",
   "execution_count": 2,
   "metadata": {},
   "outputs": [],
   "source": [
    "%load_ext autoreload\n",
    "%autoreload 2"
   ]
  },
  {
   "cell_type": "code",
   "execution_count": 3,
   "metadata": {},
   "outputs": [],
   "source": [
    "# Import the fabapi module, as well as some other stuff for working with data. \n",
    "from fabapi import *\n",
    "import pandas as pd\n",
    "import numpy as np"
   ]
  },
  {
   "cell_type": "code",
   "execution_count": 18,
   "metadata": {},
   "outputs": [
    {
     "name": "stdout",
     "output_type": "stream",
     "text": [
      "http://microbes.gps.caltech.edu:8000/count/annotations_kegg_r207?ko[eq]K01992\n"
     ]
    },
    {
     "data": {
      "text/plain": [
       "1115912"
      ]
     },
     "execution_count": 18,
     "metadata": {},
     "output_type": "execute_result"
    }
   ],
   "source": [
    "q = Query('annotations_kegg')\n",
    "q.equal_to('ko', 'K01992')\n",
    "# q.equal_to('stop_codon', 'ATG')\n",
    "q.count(print_url=True)"
   ]
  },
  {
   "cell_type": "code",
   "execution_count": 20,
   "metadata": {},
   "outputs": [
    {
     "data": {
      "text/plain": [
       "2231.824"
      ]
     },
     "execution_count": 20,
     "metadata": {},
     "output_type": "execute_result"
    }
   ],
   "source": [
    "1115912 / 500"
   ]
  },
  {
   "cell_type": "code",
   "execution_count": 21,
   "metadata": {},
   "outputs": [
    {
     "name": "stdout",
     "output_type": "stream",
     "text": [
      "2231\n",
      "2232\n",
      "2233\n"
     ]
    }
   ],
   "source": [
    "# NOTE: Why do queries get slower with larger offsets?\n",
    "for x in q:\n",
    "    print(q.page)"
   ]
  },
  {
   "cell_type": "code",
   "execution_count": 13,
   "metadata": {},
   "outputs": [],
   "source": [
    "q = Query('annotations_kegg')\n",
    "q.equal_to('ko', ['K16157', 'K10944'])\n",
    "q.add_field('gtdb_species')\n",
    "q.add_field('gtdb_phylum')\n",
    "q.add_field('gtdb_class')\n",
    "q.add_field('gtdb_order')\n",
    "q.add_field('gtdb_genus')\n",
    "q.add_field('gtdb_family')\n",
    "q.add_field('gtdb_domain')\n",
    "\n",
    "result_df = pd.concat([q.next() for i in range(2)])"
   ]
  },
  {
   "cell_type": "code",
   "execution_count": 14,
   "metadata": {},
   "outputs": [],
   "source": [
    "result_df.set_index('gene_id').to_csv('for_hannah.csv')"
   ]
  },
  {
   "cell_type": "code",
   "execution_count": 11,
   "metadata": {},
   "outputs": [],
   "source": [
    "# Retrieving species name for a particular gene by gene ID.  \n",
    "q = Query('proteins')\n",
    "q.equal_to('gene_id', 'AP009389.1_1904')\n",
    "q.add_field('gtdb_species')"
   ]
  },
  {
   "cell_type": "code",
   "execution_count": 12,
   "metadata": {},
   "outputs": [
    {
     "data": {
      "text/html": [
       "<div>\n",
       "<style scoped>\n",
       "    .dataframe tbody tr th:only-of-type {\n",
       "        vertical-align: middle;\n",
       "    }\n",
       "\n",
       "    .dataframe tbody tr th {\n",
       "        vertical-align: top;\n",
       "    }\n",
       "\n",
       "    .dataframe thead th {\n",
       "        text-align: right;\n",
       "    }\n",
       "</style>\n",
       "<table border=\"1\" class=\"dataframe\">\n",
       "  <thead>\n",
       "    <tr style=\"text-align: right;\">\n",
       "      <th></th>\n",
       "      <th>gene_id</th>\n",
       "      <th>gtdb_version</th>\n",
       "      <th>genome_id</th>\n",
       "      <th>aa_seq</th>\n",
       "      <th>start</th>\n",
       "      <th>stop</th>\n",
       "      <th>start_codon</th>\n",
       "      <th>stop_codon</th>\n",
       "      <th>gc_content</th>\n",
       "      <th>strand</th>\n",
       "      <th>partial</th>\n",
       "      <th>rbs_motif</th>\n",
       "      <th>scaffold_id</th>\n",
       "      <th>gtdb_species</th>\n",
       "      <th>gtdb_species_1</th>\n",
       "    </tr>\n",
       "  </thead>\n",
       "  <tbody>\n",
       "    <tr>\n",
       "      <th>0</th>\n",
       "      <td>AP009389.1_1904</td>\n",
       "      <td>207</td>\n",
       "      <td>GCA_000010565.1</td>\n",
       "      <td>MSPMKDPNLLVGSSTCDDAAVYRLNDETAIVLTVDYFTPVVDDPYT...</td>\n",
       "      <td>1934961</td>\n",
       "      <td>1935911</td>\n",
       "      <td>TTG</td>\n",
       "      <td>TAG</td>\n",
       "      <td>0.588</td>\n",
       "      <td>-</td>\n",
       "      <td>00</td>\n",
       "      <td>GGA/GAG/AGG</td>\n",
       "      <td>1</td>\n",
       "      <td>Pelotomaculum thermopropionicum</td>\n",
       "      <td>Pelotomaculum thermopropionicum</td>\n",
       "    </tr>\n",
       "  </tbody>\n",
       "</table>\n",
       "</div>"
      ],
      "text/plain": [
       "           gene_id  gtdb_version        genome_id  \\\n",
       "0  AP009389.1_1904           207  GCA_000010565.1   \n",
       "\n",
       "                                              aa_seq    start     stop  \\\n",
       "0  MSPMKDPNLLVGSSTCDDAAVYRLNDETAIVLTVDYFTPVVDDPYT...  1934961  1935911   \n",
       "\n",
       "  start_codon stop_codon  gc_content strand partial    rbs_motif  scaffold_id  \\\n",
       "0         TTG        TAG       0.588      -      00  GGA/GAG/AGG            1   \n",
       "\n",
       "                      gtdb_species                   gtdb_species_1  \n",
       "0  Pelotomaculum thermopropionicum  Pelotomaculum thermopropionicum  "
      ]
     },
     "execution_count": 12,
     "metadata": {},
     "output_type": "execute_result"
    }
   ],
   "source": [
    "# Retrieving species name for a particular genome by genome ID.  \n",
    "q = Query('metadata')\n",
    "q.equal_to('genome_id', 'GCA_000010565.1')"
   ]
  }
 ],
 "metadata": {
  "kernelspec": {
   "display_name": "find-a-bug-api",
   "language": "python",
   "name": "python3"
  },
  "language_info": {
   "codemirror_mode": {
    "name": "ipython",
    "version": 3
   },
   "file_extension": ".py",
   "mimetype": "text/x-python",
   "name": "python",
   "nbconvert_exporter": "python",
   "pygments_lexer": "ipython3",
   "version": "3.12.1"
  }
 },
 "nbformat": 4,
 "nbformat_minor": 2
}
