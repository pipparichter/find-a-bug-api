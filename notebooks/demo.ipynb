{
 "cells": [
  {
   "cell_type": "markdown",
   "id": "4d53312e",
   "metadata": {},
   "source": [
    "# Find-A-Bug API\n",
    "\n",
    "This tutorial walks through usage of the Python API for interacting with the Find-A-Bug database. \n",
    "\n",
    "## Installation\n",
    "\n",
    "To install the API, first clone the repository using the following command. \n",
    "\n",
    "`git clone https://github.com/pipparichter/find-a-bug-api.git`\n",
    "\n",
    "It's best practice to work within a `conda` (or equivalent) Python environment; `conda` can be installed [here](https://conda.io/projects/conda/en/latest/user-guide/install/index.html). To create a `conda` environment, run `conda create --name PROJECT_NAME`. Then, activate the environment with `conda activate PROJECT_NAME`. To install the Find-A-Bug API into this environment, simply navigate to the `find-a-bug-api` root directory and run `pip install -e` (or `pip install -e PATH_TO_DIRECTORY`). "
   ]
  },
  {
   "cell_type": "code",
   "execution_count": 1,
   "id": "e9afae0a",
   "metadata": {},
   "outputs": [],
   "source": [
    "! activate find-a-bug-api"
   ]
  },
  {
   "cell_type": "code",
   "execution_count": 2,
   "id": "a1bad1b8",
   "metadata": {},
   "outputs": [
    {
     "name": "stdout",
     "output_type": "stream",
     "text": [
      "Obtaining file:///home/prichter/Documents/find-a-bug-api\n",
      "  Preparing metadata (setup.py) ... \u001b[?25ldone\n",
      "\u001b[?25hInstalling collected packages: Find-A-Bug-API\n",
      "  Attempting uninstall: Find-A-Bug-API\n",
      "    Found existing installation: Find-A-Bug-API 0.0.0\n",
      "    Uninstalling Find-A-Bug-API-0.0.0:\n",
      "      Successfully uninstalled Find-A-Bug-API-0.0.0\n",
      "  Running setup.py develop for Find-A-Bug-API\n",
      "Successfully installed Find-A-Bug-API-0.0.0\n"
     ]
    }
   ],
   "source": [
    "! pip install -e /home/prichter/Documents/find-a-bug-api"
   ]
  },
  {
   "cell_type": "markdown",
   "id": "b3d859ca",
   "metadata": {},
   "source": [
    "## Usage\n",
    "\n",
    "Before accessing the Find-A-Bug database, you must be connected to Caltech wifi or be using the VPN. Instructions for connecting to the VPN can be found on the Caltech [website](https://www.imss.caltech.edu/services/wired-wireless-remote-access/Virtual-Private-Network-VPN). "
   ]
  },
  {
   "cell_type": "code",
   "execution_count": 5,
   "id": "75abdfe1",
   "metadata": {},
   "outputs": [],
   "source": [
    "import fabapi # Import the API module. "
   ]
  },
  {
   "cell_type": "markdown",
   "id": "d1b58979",
   "metadata": {},
   "source": [
    "The Find-A-Bug Python API currently supports the following query functions. \n",
    "\n",
    "1. `"
   ]
  },
  {
   "cell_type": "markdown",
   "id": "5488f97d",
   "metadata": {},
   "source": [
    "### Examples"
   ]
  },
  {
   "cell_type": "code",
   "execution_count": 4,
   "id": "8a3e17cd",
   "metadata": {},
   "outputs": [
    {
     "name": "stdout",
     "output_type": "stream",
     "text": [
      "TODO\n"
     ]
    }
   ],
   "source": [
    "fabapi.info()"
   ]
  },
  {
   "cell_type": "markdown",
   "id": "b93ce8c9",
   "metadata": {},
   "source": [
    "## Troubleshooting"
   ]
  },
  {
   "cell_type": "code",
   "execution_count": null,
   "id": "f31880ec",
   "metadata": {},
   "outputs": [],
   "source": []
  }
 ],
 "metadata": {
  "kernelspec": {
   "display_name": "find-a-bug-api",
   "language": "python",
   "name": "find-a-bug-api"
  },
  "language_info": {
   "codemirror_mode": {
    "name": "ipython",
    "version": 3
   },
   "file_extension": ".py",
   "mimetype": "text/x-python",
   "name": "python",
   "nbconvert_exporter": "python",
   "pygments_lexer": "ipython3",
   "version": "3.10.12"
  }
 },
 "nbformat": 4,
 "nbformat_minor": 5
}
