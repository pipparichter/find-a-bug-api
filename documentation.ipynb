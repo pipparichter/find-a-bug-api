{
 "cells": [
  {
   "cell_type": "markdown",
   "id": "2f889f72",
   "metadata": {},
   "source": [
    "<p style=\"text-align:center;\"><img <img src=\"./mascot.png\"  width=\"300\" height=\"300\"></p>\n",
    " \n",
    "\n",
    "# Find-A-Bug API"
   ]
  },
  {
   "cell_type": "markdown",
   "id": "c23b8182",
   "metadata": {},
   "source": [
    "## INSTALLATION\n",
    "\n",
    "First, clone this repository into your working directory using the following\n",
    "`git` command. \n",
    "\n",
    "`git clone pipparichter/find-a-bug`\n",
    "\n",
    "Then, to install all necessary dependencies, run the following command from your\n",
    "working directory. \n",
    "\n",
    "`pip install -e find-a-bug`"
   ]
  },
  {
   "cell_type": "markdown",
   "id": "cf52282a",
   "metadata": {},
   "source": [
    "## USAGE\n",
    "\n",
    "First, you need to import the Find-A-Bug utilities using the line below."
   ]
  },
  {
   "cell_type": "code",
   "execution_count": 1,
   "id": "26a410c6",
   "metadata": {},
   "outputs": [],
   "source": [
    "import fabapi"
   ]
  },
  {
   "cell_type": "markdown",
   "id": "c56194fc",
   "metadata": {},
   "source": [
    "---\n",
    "### `fabapi.info`\n",
    "---\n",
    "\n",
    "This function does not take any arguments. It simply returns information about tables in the Find-A-Bug database (the names of the tables, the columns in the tables, and the primary key). **If any other information would be useful to return, please let me know and I can add it!**\n",
    "\n",
    "#### RETURNS\n",
    "\n",
    "A string with a summary of the database tables. Eventually, there will also be an option to return a JSON string (but for now this will have to do). "
   ]
  },
  {
   "cell_type": "code",
   "execution_count": 2,
   "id": "232148d4",
   "metadata": {},
   "outputs": [],
   "source": [
    "result = fabapi.info()"
   ]
  },
  {
   "cell_type": "code",
   "execution_count": 3,
   "id": "aa1f4e6f",
   "metadata": {},
   "outputs": [
    {
     "name": "stdout",
     "output_type": "stream",
     "text": [
      "NAME: gtdb_r207_metadata\n",
      "PRIMARY KEY: genome_id\n",
      "COLUMNS: genome_id index ambiguous_bases checkm_completeness checkm_contamination checkm_marker_count checkm_marker_lineage checkm_marker_set_count checkm_strain_heterogeneity coding_bases coding_density contig_count gc_count gc_percentage genome_size gtdb_genome_representative gtdb_representative gtdb_type_designation gtdb_type_designation_sources gtdb_type_species_of_genus l50_contigs l50_scaffolds longest_contig longest_scaffold lsu_23s_contig_len lsu_23s_count lsu_23s_length lsu_23s_query_id lsu_5s_contig_len lsu_5s_count lsu_5s_length lsu_5s_query_id lsu_silva_23s_blast_align_len lsu_silva_23s_blast_bitscore lsu_silva_23s_blast_evalue lsu_silva_23s_blast_perc_identity lsu_silva_23s_blast_subject_id mean_contig_length mean_scaffold_length mimag_high_quality mimag_low_quality mimag_medium_quality n50_contigs n50_scaffolds ncbi_assembly_level ncbi_assembly_name ncbi_assembly_type ncbi_bioproject ncbi_biosample ncbi_contig_count ncbi_contig_n50 ncbi_country ncbi_date ncbi_genbank_assembly_accession ncbi_genome_category ncbi_genome_representation ncbi_isolate ncbi_isolation_source ncbi_lat_lon ncbi_molecule_count ncbi_ncrna_count ncbi_organism_name ncbi_protein_count ncbi_refseq_category ncbi_rrna_count ncbi_scaffold_count ncbi_scaffold_l50 ncbi_scaffold_n50 ncbi_scaffold_n75 ncbi_scaffold_n90 ncbi_seq_rel_date ncbi_spanned_gaps ncbi_species_taxid ncbi_ssu_count ncbi_strain_identifiers ncbi_taxid ncbi_total_gap_length ncbi_total_length ncbi_translation_table ncbi_trna_count ncbi_type_material_designation ncbi_ungapped_length ncbi_unspanned_gaps ncbi_wgs_master protein_count scaffold_count ssu_contig_len ssu_count ssu_gg_blast_align_len ssu_gg_blast_bitscore ssu_gg_blast_evalue ssu_gg_blast_perc_identity ssu_gg_blast_subject_id ssu_length ssu_query_id ssu_silva_blast_align_len ssu_silva_blast_bitscore ssu_silva_blast_evalue ssu_silva_blast_perc_identity ssu_silva_blast_subject_id total_gap_length trna_aa_count trna_count trna_selenocysteine_count gtdb_domain gtdb_phylum gtdb_class gtdb_order gtdb_family gtdb_genus gtdb_species ncbi_domain ncbi_phylum ncbi_class ncbi_order ncbi_family ncbi_genus ncbi_species ssu_gg_domain ssu_gg_phylum ssu_gg_class ssu_gg_order ssu_gg_family ssu_gg_genus ssu_gg_species\n",
      "\n",
      "\n",
      "NAME: gtdb_r207_amino_acid_seqs\n",
      "PRIMARY KEY: gene_name\n",
      "COLUMNS: gene_name genome_id genus index sequence\n",
      "\n",
      "\n",
      "NAME: gtdb_r207_annotations_kegg\n",
      "PRIMARY KEY: unique_id\n",
      "COLUMNS: unique_id genome_id index gene_name ko threshold score e_value\n",
      "\n",
      "\n"
     ]
    }
   ],
   "source": [
    "print(result)"
   ]
  },
  {
   "cell_type": "code",
   "execution_count": 7,
   "id": "a400dad4",
   "metadata": {},
   "outputs": [
    {
     "name": "stdout",
     "output_type": "stream",
     "text": [
      "2 results in 260.99416304193437 seconds\n",
      "\n",
      "SELECT gtdb_r207_annotations_kegg.gene_name, gtdb_r207_annotations_kegg.genome_id \n",
      "FROM gtdb_r207_annotations_kegg \n",
      "WHERE gtdb_r207_annotations_kegg.gene_name = :gene_name_1\n",
      " LIMIT :param_1 OFFSET :param_2\n",
      "\n",
      "--------------------\n",
      "gene_name,genome_id\n",
      "NZ_JAFEMD010000126.1_1,RS_GCF_016892765.1\n",
      "\n"
     ]
    }
   ],
   "source": [
    "print(fabapi.get_by_gene_name('NZ_JAFEMD010000126.1_1', sequence=False, as_df=False).text)"
   ]
  },
  {
   "cell_type": "code",
   "execution_count": 8,
   "id": "36d7d384",
   "metadata": {},
   "outputs": [
    {
     "name": "stdout",
     "output_type": "stream",
     "text": [
      "2 results in 2038.763927174732 seconds\n",
      "\n",
      "SELECT gtdb_r207_amino_acid_seqs.gene_name, gtdb_r207_amino_acid_seqs.genome_id, gtdb_r207_amino_acid_seqs.sequence \n",
      "FROM gtdb_r207_amino_acid_seqs \n",
      "WHERE gtdb_r207_amino_acid_seqs.gene_name = :gene_name_1\n",
      " LIMIT :param_1 OFFSET :param_2\n",
      "\n",
      "--------------------\n",
      "gene_name,genome_id,sequence\n",
      "NZ_JAFEMD010000126.1_1,RS_GCF_016892765.1,MSKPVSYKRHRFPPEIIAYAVWLYFRFPLSLRLVEEMLLERGIVVSYETVRRWALKFGPDYARRLRRKRPSRRDIWHLDEVVVTISGKKHWLWRAVDQDGYVLDEVVQTRRDTKAAKRLLKRLLRKQGRPPRRLITDKLGSYAAARRHIMPEVEHRSHKGLNNRAENSHLPFRRRERAMQGFRSPRYLQRFVSVFSAVRNLFVPPRSSRSAPATRLHRLNAMAEWNAVANLAA*\n",
      "\n"
     ]
    }
   ],
   "source": [
    "# Executing the raw SQL query takes half the amount of time... why?\n",
    "print(fabapi.get_by_gene_name('NZ_JAFEMD010000126.1_1', as_df=False).text)"
   ]
  },
  {
   "cell_type": "markdown",
   "id": "bd5b6463",
   "metadata": {},
   "source": [
    "## Feedback\n",
    "\n",
    "The Find-A-Bug API is still in development. For any suggestions, or to report any errors or bugs, please email me at `prichter at caltech dot edu`.\n",
    "\n"
   ]
  },
  {
   "cell_type": "code",
   "execution_count": null,
   "id": "3d49432d",
   "metadata": {},
   "outputs": [],
   "source": []
  },
  {
   "cell_type": "code",
   "execution_count": null,
   "id": "6ebb3916",
   "metadata": {},
   "outputs": [],
   "source": []
  }
 ],
 "metadata": {
  "kernelspec": {
   "display_name": "Python 3 (ipykernel)",
   "language": "python",
   "name": "python3"
  },
  "language_info": {
   "codemirror_mode": {
    "name": "ipython",
    "version": 3
   },
   "file_extension": ".py",
   "mimetype": "text/x-python",
   "name": "python",
   "nbconvert_exporter": "python",
   "pygments_lexer": "ipython3",
   "version": "3.10.10"
  }
 },
 "nbformat": 4,
 "nbformat_minor": 5
}
