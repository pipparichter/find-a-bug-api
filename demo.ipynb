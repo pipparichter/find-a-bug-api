{
 "cells": [
  {
   "cell_type": "markdown",
   "id": "174ec6b1",
   "metadata": {},
   "source": [
    "# Find-A-Bug API Demo\n",
    "\n",
    "In this demo, I will showcase some of the features of the Find-A-Bug API. Prior to using the API, it needs to be installed (see installation guide in the `documentation.ipynb` file), and the package must be located in the working directory. In order to use the API, you will need to be on campus wifi, or using a VPN. "
   ]
  },
  {
   "cell_type": "code",
   "execution_count": 1,
   "id": "c6b79036",
   "metadata": {},
   "outputs": [],
   "source": [
    "# Import the API.\n",
    "import fabapi\n",
    "# Import some other utilities...\n",
    "import pandas as pd\n",
    "import numpy as np"
   ]
  },
  {
   "cell_type": "markdown",
   "id": "0b3b7b4c",
   "metadata": {},
   "source": [
    "To display the information about the tables in the database (and just to confirm that everything is working as intended), we can use the `info` method. "
   ]
  },
  {
   "cell_type": "code",
   "execution_count": 2,
   "id": "a6d301d7",
   "metadata": {},
   "outputs": [
    {
     "name": "stdout",
     "output_type": "stream",
     "text": [
      "NAME: gtdb_r207_metadata\n",
      "PRIMARY KEY: genome_id\n",
      "COLUMNS: genome_id ambiguous_bases checkm_completeness checkm_contamination checkm_marker_count checkm_marker_lineage checkm_marker_set_count checkm_strain_heterogeneity coding_bases coding_density contig_count gc_count gc_percentage genome_size gtdb_genome_representative gtdb_representative gtdb_type_designation gtdb_type_designation_sources gtdb_type_species_of_genus l50_contigs l50_scaffolds longest_contig longest_scaffold lsu_23s_contig_len lsu_23s_count lsu_23s_length lsu_23s_query_id lsu_5s_contig_len lsu_5s_count lsu_5s_length lsu_5s_query_id lsu_silva_23s_blast_align_len lsu_silva_23s_blast_bitscore lsu_silva_23s_blast_evalue lsu_silva_23s_blast_perc_identity lsu_silva_23s_blast_subject_id mean_contig_length mean_scaffold_length mimag_high_quality mimag_low_quality mimag_medium_quality n50_contigs n50_scaffolds ncbi_assembly_level ncbi_assembly_name ncbi_assembly_type ncbi_bioproject ncbi_biosample ncbi_contig_count ncbi_contig_n50 ncbi_country ncbi_date ncbi_genbank_assembly_accession ncbi_genome_category ncbi_genome_representation ncbi_isolate ncbi_isolation_source ncbi_lat_lon ncbi_molecule_count ncbi_ncrna_count ncbi_organism_name ncbi_protein_count ncbi_refseq_category ncbi_rrna_count ncbi_scaffold_count ncbi_scaffold_l50 ncbi_scaffold_n50 ncbi_scaffold_n75 ncbi_scaffold_n90 ncbi_seq_rel_date ncbi_spanned_gaps ncbi_species_taxid ncbi_ssu_count ncbi_strain_identifiers ncbi_taxid ncbi_total_gap_length ncbi_total_length ncbi_translation_table ncbi_trna_count ncbi_type_material_designation ncbi_ungapped_length ncbi_unspanned_gaps ncbi_wgs_master protein_count scaffold_count ssu_contig_len ssu_count ssu_gg_blast_align_len ssu_gg_blast_bitscore ssu_gg_blast_evalue ssu_gg_blast_perc_identity ssu_gg_blast_subject_id ssu_length ssu_query_id ssu_silva_blast_align_len ssu_silva_blast_bitscore ssu_silva_blast_evalue ssu_silva_blast_perc_identity ssu_silva_blast_subject_id total_gap_length trna_aa_count trna_count trna_selenocysteine_count gtdb_domain gtdb_phylum gtdb_class gtdb_order gtdb_family gtdb_genus gtdb_species ncbi_domain ncbi_phylum ncbi_class ncbi_order ncbi_family ncbi_genus ncbi_species ssu_gg_domain ssu_gg_phylum ssu_gg_class ssu_gg_order ssu_gg_family ssu_gg_genus ssu_gg_species\n",
      "\n",
      "\n",
      "NAME: gtdb_r207_amino_acid_seqs\n",
      "PRIMARY KEY: gene_name\n",
      "COLUMNS: gene_name genome_id genus sequence\n",
      "\n",
      "\n",
      "NAME: gtdb_r207_annotations_kegg\n",
      "PRIMARY KEY: unique_id\n",
      "COLUMNS: unique_id genome_id gene_name ko threshold score e_value\n",
      "\n",
      "\n"
     ]
    }
   ],
   "source": [
    "fabapi.info()"
   ]
  },
  {
   "cell_type": "markdown",
   "id": "ec391cef",
   "metadata": {},
   "source": [
    "Suppose we want to get the information for a particular KO group; for Avi's sake I will query the Rubisco KO group, which (I think) has the code K01601. Note that the query below took a couple of minutes to run, as KO is not (yet -- I can if this would be helpful) defined as an index in the `gtdb_r207_annotations_kegg` table. "
   ]
  },
  {
   "cell_type": "code",
   "execution_count": 7,
   "id": "bb94c718",
   "metadata": {},
   "outputs": [
    {
     "name": "stdout",
     "output_type": "stream",
     "text": [
      "SELECT gtdb_r207_annotations_kegg.ko, gtdb_r207_annotations_kegg.gene_name, gtdb_r207_annotations_kegg.genome_id \n",
      "FROM gtdb_r207_annotations_kegg \n",
      "WHERE gtdb_r207_annotations_kegg.ko = :ko_1\n",
      "\n"
     ]
    },
    {
     "data": {
      "text/html": [
       "<div>\n",
       "<style scoped>\n",
       "    .dataframe tbody tr th:only-of-type {\n",
       "        vertical-align: middle;\n",
       "    }\n",
       "\n",
       "    .dataframe tbody tr th {\n",
       "        vertical-align: top;\n",
       "    }\n",
       "\n",
       "    .dataframe thead th {\n",
       "        text-align: right;\n",
       "    }\n",
       "</style>\n",
       "<table border=\"1\" class=\"dataframe\">\n",
       "  <thead>\n",
       "    <tr style=\"text-align: right;\">\n",
       "      <th></th>\n",
       "      <th>ko</th>\n",
       "      <th>gene_name</th>\n",
       "      <th>genome_id</th>\n",
       "    </tr>\n",
       "  </thead>\n",
       "  <tbody>\n",
       "    <tr>\n",
       "      <th>0</th>\n",
       "      <td>K01601</td>\n",
       "      <td>NZ_FNIA01000003.1_120</td>\n",
       "      <td>RS_GCF_900103505.1</td>\n",
       "    </tr>\n",
       "    <tr>\n",
       "      <th>1</th>\n",
       "      <td>K01601</td>\n",
       "      <td>NZ_MUNZ01000119.1_27</td>\n",
       "      <td>RS_GCF_002001205.1</td>\n",
       "    </tr>\n",
       "    <tr>\n",
       "      <th>2</th>\n",
       "      <td>K01601</td>\n",
       "      <td>NCJL01000004.1_68</td>\n",
       "      <td>GB_GCA_002278935.1</td>\n",
       "    </tr>\n",
       "    <tr>\n",
       "      <th>3</th>\n",
       "      <td>K01601</td>\n",
       "      <td>NCJL01000004.1_73</td>\n",
       "      <td>GB_GCA_002278935.1</td>\n",
       "    </tr>\n",
       "    <tr>\n",
       "      <th>4</th>\n",
       "      <td>K01601</td>\n",
       "      <td>NZ_CP030051.1_5598</td>\n",
       "      <td>RS_GCF_004114975.1</td>\n",
       "    </tr>\n",
       "  </tbody>\n",
       "</table>\n",
       "</div>"
      ],
      "text/plain": [
       "       ko              gene_name           genome_id\n",
       "0  K01601  NZ_FNIA01000003.1_120  RS_GCF_900103505.1\n",
       "1  K01601   NZ_MUNZ01000119.1_27  RS_GCF_002001205.1\n",
       "2  K01601      NCJL01000004.1_68  GB_GCA_002278935.1\n",
       "3  K01601      NCJL01000004.1_73  GB_GCA_002278935.1\n",
       "4  K01601     NZ_CP030051.1_5598  RS_GCF_004114975.1"
      ]
     },
     "execution_count": 7,
     "metadata": {},
     "output_type": "execute_result"
    }
   ],
   "source": [
    "ko_info = fabapi.get_by_ko('K01601', gene_name=True, genome_id=True, as_df=True)\n",
    "ko_info.head()"
   ]
  },
  {
   "cell_type": "code",
   "execution_count": 7,
   "id": "d4b2182d",
   "metadata": {},
   "outputs": [
    {
     "name": "stdout",
     "output_type": "stream",
     "text": [
      "The query above returned 6541 results.\n"
     ]
    }
   ],
   "source": [
    "print(f'The query above returned {len(ko_info)} results.')"
   ]
  },
  {
   "cell_type": "markdown",
   "id": "71856de3",
   "metadata": {},
   "source": [
    "Now, suppose we want to look into the organism which possesses the highest number of genes in the KO group K01601. We can grab its `genome_ID` from the table using the following. "
   ]
  },
  {
   "cell_type": "code",
   "execution_count": 10,
   "id": "9cfcf5ab",
   "metadata": {},
   "outputs": [
    {
     "name": "stdout",
     "output_type": "stream",
     "text": [
      "Highest-represented organism is RS_GCF_016583835.1\n"
     ]
    }
   ],
   "source": [
    "ko_info_mode = ko_info['genome_id'].mode()\n",
    "print(f'Highest-represented organism is {ko_info_mode[0]}')"
   ]
  },
  {
   "cell_type": "markdown",
   "id": "b8955321",
   "metadata": {},
   "source": [
    "What else can we learn about this organism? We can get associated metadata from the database using the `get_by_genome_id` method. **NOTE:** There seems to be an unnecessary join here, I will look into it. "
   ]
  },
  {
   "cell_type": "code",
   "execution_count": 3,
   "id": "30298ae7",
   "metadata": {},
   "outputs": [
    {
     "name": "stdout",
     "output_type": "stream",
     "text": [
      "SELECT gtdb_r207_metadata.genome_id, gtdb_r207_metadata.gtdb_domain, gtdb_r207_metadata.gtdb_phylum, gtdb_r207_metadata.gtdb_class, gtdb_r207_metadata.gtdb_order, gtdb_r207_metadata.gtdb_genus, gtdb_r207_metadata.gtdb_species \n",
      "FROM gtdb_r207_metadata \n",
      "WHERE gtdb_r207_metadata.genome_id = :genome_id_1\n",
      "\n"
     ]
    },
    {
     "data": {
      "text/html": [
       "<div>\n",
       "<style scoped>\n",
       "    .dataframe tbody tr th:only-of-type {\n",
       "        vertical-align: middle;\n",
       "    }\n",
       "\n",
       "    .dataframe tbody tr th {\n",
       "        vertical-align: top;\n",
       "    }\n",
       "\n",
       "    .dataframe thead th {\n",
       "        text-align: right;\n",
       "    }\n",
       "</style>\n",
       "<table border=\"1\" class=\"dataframe\">\n",
       "  <thead>\n",
       "    <tr style=\"text-align: right;\">\n",
       "      <th></th>\n",
       "      <th>genome_id</th>\n",
       "      <th>gtdb_domain</th>\n",
       "      <th>gtdb_phylum</th>\n",
       "      <th>gtdb_class</th>\n",
       "      <th>gtdb_order</th>\n",
       "      <th>gtdb_genus</th>\n",
       "      <th>gtdb_species</th>\n",
       "    </tr>\n",
       "  </thead>\n",
       "  <tbody>\n",
       "    <tr>\n",
       "      <th>0</th>\n",
       "      <td>RS_GCF_016583835.1</td>\n",
       "      <td>d__Bacteria</td>\n",
       "      <td>p__Proteobacteria</td>\n",
       "      <td>c__Gammaproteobacteria</td>\n",
       "      <td>o__Chromatiales</td>\n",
       "      <td>g__Thiococcus</td>\n",
       "      <td>s__Thiococcus pfennigii</td>\n",
       "    </tr>\n",
       "  </tbody>\n",
       "</table>\n",
       "</div>"
      ],
      "text/plain": [
       "            genome_id  gtdb_domain        gtdb_phylum              gtdb_class   \n",
       "0  RS_GCF_016583835.1  d__Bacteria  p__Proteobacteria  c__Gammaproteobacteria  \\\n",
       "\n",
       "        gtdb_order     gtdb_genus             gtdb_species  \n",
       "0  o__Chromatiales  g__Thiococcus  s__Thiococcus pfennigii  "
      ]
     },
     "execution_count": 3,
     "metadata": {},
     "output_type": "execute_result"
    }
   ],
   "source": [
    "genome_id_info = fabapi.get_by_genome_id('RS_GCF_016583835.1', as_df=True)\n",
    "genome_id_info.head()"
   ]
  },
  {
   "cell_type": "markdown",
   "id": "071e0a02",
   "metadata": {},
   "source": [
    "Suppose we want to grab the sequence information for all genes in the Rubisco KO group. This g"
   ]
  },
  {
   "cell_type": "code",
   "execution_count": 9,
   "id": "4c8aca77",
   "metadata": {},
   "outputs": [],
   "source": [
    "gene_names = []"
   ]
  },
  {
   "cell_type": "code",
   "execution_count": 15,
   "id": "58504c17",
   "metadata": {},
   "outputs": [],
   "source": [
    "df = fabapi.get_by_gene_name(list(ko_info['gene_name'])[:10], as_df=False)"
   ]
  },
  {
   "cell_type": "code",
   "execution_count": 18,
   "id": "6a86899c",
   "metadata": {},
   "outputs": [
    {
     "data": {
      "text/html": [
       "<div>\n",
       "<style scoped>\n",
       "    .dataframe tbody tr th:only-of-type {\n",
       "        vertical-align: middle;\n",
       "    }\n",
       "\n",
       "    .dataframe tbody tr th {\n",
       "        vertical-align: top;\n",
       "    }\n",
       "\n",
       "    .dataframe thead th {\n",
       "        text-align: right;\n",
       "    }\n",
       "</style>\n",
       "<table border=\"1\" class=\"dataframe\">\n",
       "  <thead>\n",
       "    <tr style=\"text-align: right;\">\n",
       "      <th></th>\n",
       "      <th>gene_name</th>\n",
       "      <th>genome_id</th>\n",
       "      <th>sequence</th>\n",
       "    </tr>\n",
       "  </thead>\n",
       "  <tbody>\n",
       "    <tr>\n",
       "      <th>0</th>\n",
       "      <td>NCJL01000004.1_68</td>\n",
       "      <td>GB_GCA_002278935.1</td>\n",
       "      <td>MDQSARYSNLDLKEADLIKGEKHILVAYKMKPKAGYGYLEAAAHFA...</td>\n",
       "    </tr>\n",
       "    <tr>\n",
       "      <th>1</th>\n",
       "      <td>NCJL01000004.1_73</td>\n",
       "      <td>GB_GCA_002278935.1</td>\n",
       "      <td>MAVKSYNAGVKEYRQTYWEPEYKVQDTDILACFKITPQAGVSREEI...</td>\n",
       "    </tr>\n",
       "    <tr>\n",
       "      <th>2</th>\n",
       "      <td>NZ_AP020335.1_194</td>\n",
       "      <td>RS_GCF_013340845.1</td>\n",
       "      <td>MASKTFDAGVQDYQLTYWTPDYTPLDTDLLACFKVVPQEGVPREEA...</td>\n",
       "    </tr>\n",
       "    <tr>\n",
       "      <th>3</th>\n",
       "      <td>NZ_AP020335.1_1953</td>\n",
       "      <td>RS_GCF_013340845.1</td>\n",
       "      <td>MDQSNRYADLTLTEEKLVADGNHLLVAYRLKPAAGYGFLEVAAHVA...</td>\n",
       "    </tr>\n",
       "    <tr>\n",
       "      <th>4</th>\n",
       "      <td>NZ_AP020335.1_2033</td>\n",
       "      <td>RS_GCF_013340845.1</td>\n",
       "      <td>MAKTYNAGVKEYRETYWMPEYEPKDSDFLACFKVVPQPGVPREEIA...</td>\n",
       "    </tr>\n",
       "    <tr>\n",
       "      <th>5</th>\n",
       "      <td>NZ_BHVV01000001.1_230</td>\n",
       "      <td>RS_GCF_003865015.1</td>\n",
       "      <td>MAVKTYNAGVKEYRQTYWTPEYTPKDTDILACFKVTPQPGVAREEV...</td>\n",
       "    </tr>\n",
       "    <tr>\n",
       "      <th>6</th>\n",
       "      <td>NZ_CP030051.1_5598</td>\n",
       "      <td>RS_GCF_004114975.1</td>\n",
       "      <td>MNAHAGTVRGKERYRSGVMEYKRMGYWEPDYTPKDTDVIALFRVTP...</td>\n",
       "    </tr>\n",
       "    <tr>\n",
       "      <th>7</th>\n",
       "      <td>NZ_CP030052.1_571</td>\n",
       "      <td>RS_GCF_004114975.1</td>\n",
       "      <td>MSLRVAINGFGRIGRNVLRAIAESRRNDIEVVAINDLGPVETNAHL...</td>\n",
       "    </tr>\n",
       "    <tr>\n",
       "      <th>8</th>\n",
       "      <td>NZ_FNIA01000003.1_120</td>\n",
       "      <td>RS_GCF_900103505.1</td>\n",
       "      <td>MTGIEYDDFLDLDYEPTGTDLVCEFSIAPASDMSMEAAASRVASES...</td>\n",
       "    </tr>\n",
       "    <tr>\n",
       "      <th>9</th>\n",
       "      <td>NZ_MUNZ01000119.1_27</td>\n",
       "      <td>RS_GCF_002001205.1</td>\n",
       "      <td>MATKTYSAGVKEYRSTYWEPHYTPKDTDILACFKITPQAGVDREEV...</td>\n",
       "    </tr>\n",
       "  </tbody>\n",
       "</table>\n",
       "</div>"
      ],
      "text/plain": [
       "               gene_name           genome_id   \n",
       "0      NCJL01000004.1_68  GB_GCA_002278935.1  \\\n",
       "1      NCJL01000004.1_73  GB_GCA_002278935.1   \n",
       "2      NZ_AP020335.1_194  RS_GCF_013340845.1   \n",
       "3     NZ_AP020335.1_1953  RS_GCF_013340845.1   \n",
       "4     NZ_AP020335.1_2033  RS_GCF_013340845.1   \n",
       "5  NZ_BHVV01000001.1_230  RS_GCF_003865015.1   \n",
       "6     NZ_CP030051.1_5598  RS_GCF_004114975.1   \n",
       "7      NZ_CP030052.1_571  RS_GCF_004114975.1   \n",
       "8  NZ_FNIA01000003.1_120  RS_GCF_900103505.1   \n",
       "9   NZ_MUNZ01000119.1_27  RS_GCF_002001205.1   \n",
       "\n",
       "                                            sequence  \n",
       "0  MDQSARYSNLDLKEADLIKGEKHILVAYKMKPKAGYGYLEAAAHFA...  \n",
       "1  MAVKSYNAGVKEYRQTYWEPEYKVQDTDILACFKITPQAGVSREEI...  \n",
       "2  MASKTFDAGVQDYQLTYWTPDYTPLDTDLLACFKVVPQEGVPREEA...  \n",
       "3  MDQSNRYADLTLTEEKLVADGNHLLVAYRLKPAAGYGFLEVAAHVA...  \n",
       "4  MAKTYNAGVKEYRETYWMPEYEPKDSDFLACFKVVPQPGVPREEIA...  \n",
       "5  MAVKTYNAGVKEYRQTYWTPEYTPKDTDILACFKVTPQPGVAREEV...  \n",
       "6  MNAHAGTVRGKERYRSGVMEYKRMGYWEPDYTPKDTDVIALFRVTP...  \n",
       "7  MSLRVAINGFGRIGRNVLRAIAESRRNDIEVVAINDLGPVETNAHL...  \n",
       "8  MTGIEYDDFLDLDYEPTGTDLVCEFSIAPASDMSMEAAASRVASES...  \n",
       "9  MATKTYSAGVKEYRSTYWEPHYTPKDTDILACFKITPQAGVDREEV...  "
      ]
     },
     "execution_count": 18,
     "metadata": {},
     "output_type": "execute_result"
    }
   ],
   "source": [
    "fabapi.to_df(df)"
   ]
  },
  {
   "cell_type": "code",
   "execution_count": null,
   "id": "fd4ae6a2",
   "metadata": {},
   "outputs": [],
   "source": []
  }
 ],
 "metadata": {
  "kernelspec": {
   "display_name": "Python 3 (ipykernel)",
   "language": "python",
   "name": "python3"
  },
  "language_info": {
   "codemirror_mode": {
    "name": "ipython",
    "version": 3
   },
   "file_extension": ".py",
   "mimetype": "text/x-python",
   "name": "python",
   "nbconvert_exporter": "python",
   "pygments_lexer": "ipython3",
   "version": "3.10.10"
  }
 },
 "nbformat": 4,
 "nbformat_minor": 5
}
